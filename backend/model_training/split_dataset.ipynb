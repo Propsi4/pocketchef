{
 "cells": [
  {
   "cell_type": "code",
   "execution_count": 18,
   "metadata": {},
   "outputs": [],
   "source": [
    "import os\n",
    "import sys\n",
    "import random\n",
    "import shutil"
   ]
  },
  {
   "cell_type": "code",
   "execution_count": 2,
   "metadata": {},
   "outputs": [],
   "source": [
    "N_MOVE = 1000\n",
    "\n",
    "MOVE_FROM = 'train/'\n",
    "MOVE_TO = 'validation/'"
   ]
  },
  {
   "cell_type": "code",
   "execution_count": 6,
   "metadata": {},
   "outputs": [],
   "source": [
    "hashes = []\n",
    "dataset_path = 'datasets/food-ingredients-pnisb/'\n",
    "for file in os.listdir(dataset_path + f'{MOVE_FROM}/images/'):\n",
    "    # remove file extension\n",
    "    hashes.append(\".\".join(file.split('.')[:-1]))"
   ]
  },
  {
   "cell_type": "code",
   "execution_count": 3,
   "metadata": {},
   "outputs": [],
   "source": [
    "labels = {}"
   ]
  },
  {
   "cell_type": "code",
   "execution_count": 4,
   "metadata": {},
   "outputs": [],
   "source": [
    "hashes = []\n",
    "dataset_path = 'datasets/food-ingredients-pnisb/'\n",
    "for file in os.listdir(dataset_path + f'{MOVE_FROM}/labels/'):\n",
    "    if len(labels) == 13:\n",
    "        break\n",
    "    text = open(dataset_path + f'{MOVE_FROM}/labels/' + file, 'r').read()\n",
    "    label = text.split(' ')[0]\n",
    "    if label not in labels.keys():\n",
    "        labels[label] = file"
   ]
  },
  {
   "cell_type": "code",
   "execution_count": 19,
   "metadata": {},
   "outputs": [
    {
     "name": "stdout",
     "output_type": "stream",
     "text": [
      "datasets/food-ingredients-pnisb/train/images/10_jpg.rf.49cf327924d5d9293b677157642bff27.jpg test/9.jpg\n",
      "datasets/food-ingredients-pnisb/train/images/39108417305204023_257902423_jpg.rf.1483958e29288e44ca37036184d99e3f.jpg test/11.jpg\n",
      "datasets/food-ingredients-pnisb/train/images/997135335A23FBDE29_jpg.rf.2b78237abb8f0c3662902f4b5a1982f7.jpg test/7.jpg\n",
      "datasets/food-ingredients-pnisb/train/images/istockphoto-1002744948-612x612_jpg.rf.5eb4c2a3b40d003cae0ca94e59bb82ac.jpg test/10.jpg\n",
      "datasets/food-ingredients-pnisb/train/images/istockphoto-1002769238-612x612_jpg.rf.06569da56698d5fadade31fe619e3d76.jpg test/1.jpg\n",
      "datasets/food-ingredients-pnisb/train/images/istockphoto-1002802014-612x612_jpg.rf.9c881a1c38441babdc53e2f02875efc2.jpg test/4.jpg\n",
      "datasets/food-ingredients-pnisb/train/images/istockphoto-1006455674-612x612_jpg.rf.0f26dd33a7f65aa5b39e61a4fd229350.jpg test/3.jpg\n",
      "datasets/food-ingredients-pnisb/train/images/istockphoto-1007148838-612x612_jpg.rf.01c5b50f54eb4185f04334a2ff34bc25.jpg test/8.jpg\n",
      "datasets/food-ingredients-pnisb/train/images/istockphoto-1007763574-612x612_jpg.rf.0e031af6e368bd86afeb3762ad281b99.jpg test/5.jpg\n",
      "datasets/food-ingredients-pnisb/train/images/istockphoto-1008379056-612x612_jpg.rf.434f3af83f313c7271cedd9e6b290a10.jpg test/2.jpg\n",
      "datasets/food-ingredients-pnisb/train/images/istockphoto-1014151020-612x612_jpg.rf.009aba0454dca5677797b5f52d4d752a.jpg test/6.jpg\n",
      "datasets/food-ingredients-pnisb/train/images/istockphoto-1028690210-612x612_jpg.rf.0c7272827252b06f79bcc1706979d5e8.jpg test/12.jpg\n",
      "datasets/food-ingredients-pnisb/train/images/istockphoto-1139468235-612x612_jpg.rf.32a7b7e72370959c6a3e4c0756c4b91d.jpg test/0.jpg\n"
     ]
    }
   ],
   "source": [
    "for label, file_hash in labels.items():\n",
    "    # copy file to desktop windows\n",
    "    file_name = \".\".join(file_hash.split('.')[:-1])\n",
    "    from_file = f'{dataset_path}{MOVE_FROM}images/{file_name}.jpg'\n",
    "    to_file = f'test/{label}.jpg'\n",
    "    print(from_file, to_file)\n",
    "    shutil.copyfile(from_file, to_file)\n",
    "    "
   ]
  },
  {
   "cell_type": "code",
   "execution_count": 20,
   "metadata": {},
   "outputs": [],
   "source": [
    "classes = {\n",
    "    0: 'potato',\n",
    "    1: 'tomato',\n",
    "    2: 'beef',\n",
    "    3: 'pork',\n",
    "    4: 'chicken',\n",
    "    5: 'zucchini',\n",
    "    6: 'yellow_onion',\n",
    "    7: 'radish',\n",
    "    8: 'eggplant',\n",
    "    9: 'green_onion',\n",
    "    10: 'red_cabbage',\n",
    "    11: 'carrot',\n",
    "    12: 'egg'\n",
    "}"
   ]
  },
  {
   "cell_type": "code",
   "execution_count": 10,
   "metadata": {},
   "outputs": [],
   "source": [
    "random_hashes = random.sample(hashes, N_MOVE)"
   ]
  },
  {
   "cell_type": "code",
   "execution_count": 13,
   "metadata": {},
   "outputs": [],
   "source": [
    "for hash in random_hashes:\n",
    "    # move image and label\n",
    "    os.rename(dataset_path + f'{MOVE_FROM}/images/{hash}.jpg', dataset_path + f'{MOVE_TO}/images/{hash}.jpg')\n",
    "    os.rename(dataset_path + f'{MOVE_FROM}/labels/{hash}.txt', dataset_path + f'{MOVE_TO}/labels/{hash}.txt')"
   ]
  }
 ],
 "metadata": {
  "kernelspec": {
   "display_name": ".venv",
   "language": "python",
   "name": "python3"
  },
  "language_info": {
   "codemirror_mode": {
    "name": "ipython",
    "version": 3
   },
   "file_extension": ".py",
   "mimetype": "text/x-python",
   "name": "python",
   "nbconvert_exporter": "python",
   "pygments_lexer": "ipython3",
   "version": "3.12.1"
  }
 },
 "nbformat": 4,
 "nbformat_minor": 2
}
