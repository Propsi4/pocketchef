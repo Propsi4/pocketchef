{
 "cells": [
  {
   "cell_type": "markdown",
   "metadata": {},
   "source": [
    "# Imports"
   ]
  },
  {
   "cell_type": "code",
   "execution_count": 1,
   "metadata": {},
   "outputs": [],
   "source": [
    "import os\n",
    "import random"
   ]
  },
  {
   "cell_type": "markdown",
   "metadata": {},
   "source": [
    "# Setup"
   ]
  },
  {
   "cell_type": "code",
   "execution_count": 11,
   "metadata": {},
   "outputs": [
    {
     "ename": "",
     "evalue": "",
     "output_type": "error",
     "traceback": [
      "\u001b[1;31mThe Kernel crashed while executing code in the current cell or a previous cell. \n",
      "\u001b[1;31mPlease review the code in the cell(s) to identify a possible cause of the failure. \n",
      "\u001b[1;31mClick <a href='https://aka.ms/vscodeJupyterKernelCrash'>here</a> for more info. \n",
      "\u001b[1;31mView Jupyter <a href='command:jupyter.viewOutput'>log</a> for further details."
     ]
    }
   ],
   "source": [
    "N_MOVE = 1000 # number of images to move into validation set\n",
    "\n",
    "TRAIN_DATA_DIR = 'train' # directory containing training data\n",
    "VALIDATION_DATA_DIR = 'validation' # directory to move validation data to\n",
    "DATASET_DIR = 'datasets/food-ingredients-pnisb' # directory containing dataset"
   ]
  },
  {
   "cell_type": "code",
   "execution_count": 3,
   "metadata": {},
   "outputs": [],
   "source": [
    "classes = {\n",
    "    0: 'potato',\n",
    "    1: 'tomato',\n",
    "    2: 'beef',\n",
    "    3: 'pork',\n",
    "    4: 'chicken',\n",
    "    5: 'zucchini',\n",
    "    6: 'yellow_onion',\n",
    "    7: 'radish',\n",
    "    8: 'eggplant',\n",
    "    9: 'green_onion',\n",
    "    10: 'red_cabbage',\n",
    "    11: 'carrot',\n",
    "    12: 'egg'\n",
    "}"
   ]
  },
  {
   "cell_type": "markdown",
   "metadata": {},
   "source": [
    "# Move files to validation folder"
   ]
  },
  {
   "cell_type": "code",
   "execution_count": 9,
   "metadata": {},
   "outputs": [],
   "source": [
    "filenames = []\n",
    "for file in os.listdir(f'{DATASET_DIR}/{TRAIN_DATA_DIR}/images'):\n",
    "    filename = \".\".join(file.split('.')[:-1])\n",
    "    filenames.append(filename)"
   ]
  },
  {
   "cell_type": "code",
   "execution_count": 13,
   "metadata": {},
   "outputs": [],
   "source": [
    "random_filenames = random.sample(filenames, N_MOVE)\n",
    "for filename in random_filenames:\n",
    "    # move image and label\n",
    "    os.rename(DATASET_DIR + f'{TRAIN_DATA_DIR}/images/{filename}.jpg', DATASET_DIR + f'{VALIDATION_DATA_DIR}/images/{filename}.jpg')\n",
    "    os.rename(DATASET_DIR + f'{TRAIN_DATA_DIR}/labels/{filename}.txt', DATASET_DIR + f'{VALIDATION_DATA_DIR}/labels/{filename}.txt')"
   ]
  }
 ],
 "metadata": {
  "kernelspec": {
   "display_name": ".venv",
   "language": "python",
   "name": "python3"
  },
  "language_info": {
   "codemirror_mode": {
    "name": "ipython",
    "version": 3
   },
   "file_extension": ".py",
   "mimetype": "text/x-python",
   "name": "python",
   "nbconvert_exporter": "python",
   "pygments_lexer": "ipython3",
   "version": "3.12.1"
  }
 },
 "nbformat": 4,
 "nbformat_minor": 2
}
